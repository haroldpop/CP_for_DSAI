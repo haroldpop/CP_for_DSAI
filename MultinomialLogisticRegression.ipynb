{
  "nbformat": 4,
  "nbformat_minor": 0,
  "metadata": {
    "colab": {
      "name": "MultinomialLogisticRegression.ipynb",
      "provenance": []
    },
    "kernelspec": {
      "name": "python3",
      "display_name": "Python 3"
    },
    "language_info": {
      "name": "python"
    }
  },
  "cells": [
    {
      "cell_type": "code",
      "metadata": {
        "id": "lk90PATUpNcZ"
      },
      "source": [
        "import numpy as np "
      ],
      "execution_count": 1,
      "outputs": []
    },
    {
      "cell_type": "code",
      "metadata": {
        "id": "yf43aUPrNQOu"
      },
      "source": [
        "def shuffle_function(X, y, nb, random_state = None) : #my shuffle isn't optimal at all \n",
        "  if type(nb) != int : \n",
        "    return 'nb must be an int'\n",
        "  if random_state != None :\n",
        "    rng = np.random.default_rng(seed = random_state)\n",
        "    arr = rng.integers(X.shape[0], size = 2*nb)\n",
        "  else :\n",
        "    arr = np.random.randint(X.shape[0], size = 2*nb)\n",
        "  for k in range(arr.shape[0] // 2) :\n",
        "      aux1 = np.zeros(X.shape[1])\n",
        "      aux2 = np.zeros(X.shape[1])\n",
        "      for j in range(X.shape[1]) :\n",
        "          aux1[j] = X[arr[k]][j]\n",
        "          aux2[j] = X[arr[k + 1]][j]\n",
        "      X[arr[k]] = aux2\n",
        "      X[arr[k + 1]] = aux1\n",
        "      if len(y.shape) == 1 :\n",
        "        aux1 = y[arr[k]]\n",
        "        aux2 = y[arr[k + 1]]\n",
        "        y[arr[k]] = aux2\n",
        "        y[arr[k+1]] = aux1\n",
        "      else :\n",
        "        aux1 = np.zeros(y.shape[1])\n",
        "        aux2 = np.zeros(y.shape[1])\n",
        "        for j in range(y.shape[1]) :\n",
        "            aux1[j] = y[arr[k]][j]\n",
        "            aux2[j] = y[arr[k + 1]][j]\n",
        "        y[arr[k]] = aux2\n",
        "        y[arr[k + 1]] = aux1\n",
        "  return X, y\n",
        "\n",
        "def splitter(X, y, test_size, random_state = None) :\n",
        "  test_len = int(np.round(X.shape[0]*test_size))\n",
        "  X_test = np.zeros((test_len, X.shape[1]))\n",
        "  if len(y.shape) == 1 :\n",
        "    y_test = np.zeros(test_len)\n",
        "  else :\n",
        "    y_test = np.zeros((test_len, y.shape[1])) \n",
        "  if random_state != None :\n",
        "    rng = np.random.default_rng(seed = random_state)\n",
        "    arr = rng.integers(X.shape[0], size = test_len)\n",
        "    arr = np.unique(arr)\n",
        "    while len(arr) < test_len :\n",
        "      arr_2 = rng.integers(X.shape[0], size = test_len - len(arr) )\n",
        "      arr = np.concatenate(arr, arr_2)\n",
        "      arr = np.unique(arr)\n",
        "  elif random_state == None :\n",
        "    arr = np.random.randint(X.shape[0], size = test_len)\n",
        "    arr = np.unique(arr)\n",
        "    while len(arr) < test_len :\n",
        "      arr_2 = np.random.randint(X.shape[0], size = test_len - len(arr) )\n",
        "      arr = np.concatenate((arr, arr_2))\n",
        "      arr = np.unique(arr)\n",
        "  for k in range(test_len) :\n",
        "    X_test[k, :] = X[arr[k], :]\n",
        "    if len(y.shape) == 1:\n",
        "        y_test[k] = y[arr[k]]\n",
        "    else :\n",
        "        y_test[k, :] = y[arr[k], :]\n",
        "  arr = np.sort(arr)[::-1]\n",
        "  for element in arr :\n",
        "    X = np.delete(X, element, 0)\n",
        "    y = np.delete(y, element, 0)\n",
        "  X_train = X\n",
        "  y_train = y\n",
        "  return X_train, X_test, y_train, y_test\n",
        "\n",
        "def train_test_split_multivariate_reg(X, y, test_size = None, shuffle = True, nb_shuffle = 4*X.shape[0], random_state = None) : \n",
        "  #we don't want to damage the original dataset\n",
        "  X_copy = np.copy(X)\n",
        "  y_copy = np.copy(y)\n",
        "  if test_size == None :\n",
        "    test_size = 0.25 #default value\n",
        "  if shuffle == True :\n",
        "    X_copy, y_copy = shuffle_function(X_copy, y_copy, nb_shuffle, random_state=random_state)\n",
        "  X_train, X_test, y_train, y_test = splitter(X_copy, y_copy, test_size, random_state = random_state)\n",
        "  return X_train, X_test, y_train, y_test \n"
      ],
      "execution_count": 111,
      "outputs": []
    },
    {
      "cell_type": "code",
      "metadata": {
        "id": "6JHzjY4HftFs"
      },
      "source": [
        "from sklearn import datasets\n",
        "from sklearn.preprocessing import StandardScaler\n",
        "import numpy as np\n",
        "import matplotlib.pyplot as plt\n",
        "import time"
      ],
      "execution_count": 182,
      "outputs": []
    },
    {
      "cell_type": "code",
      "metadata": {
        "id": "UYmipGVFfvai"
      },
      "source": [
        "iris = datasets.load_iris()\n",
        "X = iris.data[:, :2] #we only take the first two features\n",
        "y = iris.target  "
      ],
      "execution_count": 113,
      "outputs": []
    },
    {
      "cell_type": "code",
      "metadata": {
        "id": "ANtJ3tnOf2li"
      },
      "source": [
        "class LogisticRegression: \n",
        "  def __init__(self, X, y) :\n",
        "    self.X = X\n",
        "    self.y = y\n",
        "\n",
        "  def scale_data(self) :\n",
        "    scaler = StandardScaler()\n",
        "    self.X = scaler.fit_transform(self.X)\n",
        "   \n",
        "  def data_split(self, test_size = None) :\n",
        "     self.X_train, self.X_test, self.y_train, self.y_test = train_test_split_multivariate_reg(self.X, self.y, test_size = test_size)\n",
        "\n",
        "  def add_intercept(self) :\n",
        "     intercept = np.ones((self.X_train.shape[0], 1))\n",
        "     self.X_train = np.concatenate((intercept, self.X_train), axis = 1)\n",
        "     intercept = np.ones((self.X_test.shape[0], 1))\n",
        "     self.X_test = np.concatenate((intercept, self.X_test), axis = 1)\n",
        "  \n",
        "  def encoded_y(self):\n",
        "    k = len(set(self.y))\n",
        "    y_train_encoded = np.zeros((self.X_train.shape[0], k))\n",
        "    for each_class in range(k) :\n",
        "      cond = self.y_train == each_class\n",
        "      y_train_encoded[np.where(cond), each_class] = 1\n",
        "    self.y_train = y_train_encoded\n",
        "\n",
        "  def h_theta(self, x, w) :\n",
        "    return self.softmax(x @ w)\n",
        "\n",
        "  def softmax(self, x):\n",
        "    if len(x.shape) == 1 :\n",
        "      return np.exp(x)/ np.sum(np.exp(x))\n",
        "    else :\n",
        "      return np.exp(x) / np.sum(np.exp(x), axis=1, keepdims=True)\n",
        "\n",
        "  def softmax_grad(self, X, error) :\n",
        "    return X.T @ error \n",
        "\n",
        "  def gradient(self, X, y, w) :\n",
        "    h = self.h_theta(X, w)\n",
        "    cost = -np.sum(y * np.log(h))\n",
        "    error = h - y\n",
        "    grad = self.softmax_grad(X, error)\n",
        "    return cost, grad\n",
        "  \n",
        "  def gradient_descent(self, X, y, max_iter, method) :\n",
        "    if method not in ['minibatch', 'batch', 'sto'] :\n",
        "      raise ValueError('method must be minibatch, batch or sto')\n",
        "    if method == 'minibatch' :\n",
        "            w = np.random.rand(X.shape[1], y.shape[1])\n",
        "            cost_per_iter = []\n",
        "            l_rate = 0.01\n",
        "            #10% of data\n",
        "            batch_size = int(0.1 * X.shape[0])\n",
        "            for i in range(max_iter):\n",
        "              ix = np.random.randint(0, X.shape[0]) \n",
        "              batch_X = X[ix:ix+batch_size]\n",
        "              batch_y = y[ix:ix+batch_size]\n",
        "              cost, grad = self.gradient(batch_X, batch_y, w)\n",
        "              cost_per_iter.append(cost)\n",
        "              w = w - l_rate * grad\n",
        "            self.cost_per_iter = cost_per_iter\n",
        "            self.iter = max_iter\n",
        "            self.w = w\n",
        "    elif method == 'batch' :\n",
        "            w = np.random.rand(X.shape[1], y.shape[1])\n",
        "            cost_per_iter = []\n",
        "            l_rate = 0.01\n",
        "            for i in range(max_iter):\n",
        "              cost, grad = self.gradient(X, y, w)\n",
        "              cost_per_iter.append(cost)\n",
        "              w = w - l_rate * grad\n",
        "            self.cost_per_iter = cost_per_iter\n",
        "            self.iter = max_iter\n",
        "            self.w = w\n",
        "    elif method == 'sto' :\n",
        "            w = np.random.rand(X.shape[1], y.shape[1])\n",
        "            cost_per_iter = []\n",
        "            l_rate = 0.01\n",
        "            for i in range(max_iter): \n",
        "              j = np.random.randint(0, X.shape[0])\n",
        "              cost, grad = self.gradient(X[j], y[j], w)\n",
        "              cost_per_iter.append(cost)\n",
        "              w = w - l_rate * grad\n",
        "            self.cost_per_iter = cost_per_iter\n",
        "            self.iter = max_iter\n",
        "            self.w = w\n",
        "    \n",
        "  def plot_cost(self):\n",
        "      x = np.arange(self.iter)\n",
        "      plt.plot(x, self.cost_per_iter, color='b')\n",
        "      plt.xlabel('iterations')\n",
        "\n",
        "      plt.ylabel('cost')\n",
        "      plt.show()\n",
        "\n",
        "  def output(self):\n",
        "    return np.argmax(self.h_theta(self.X_test, self.w), axis = 1)"
      ],
      "execution_count": 201,
      "outputs": []
    },
    {
      "cell_type": "code",
      "metadata": {
        "id": "5MIoT3gdhcbq"
      },
      "source": [
        "exp = LogisticRegression(X, y)\n",
        "exp.scale_data()\n",
        "exp.data_split(test_size = 0.3)\n",
        "exp.encoded_y()\n",
        "exp.add_intercept()"
      ],
      "execution_count": 176,
      "outputs": []
    },
    {
      "cell_type": "code",
      "metadata": {
        "colab": {
          "base_uri": "https://localhost:8080/",
          "height": 282
        },
        "id": "H_wTXYsF5u3_",
        "outputId": "819442e0-fd07-4963-e9c4-5fe473d7a517"
      },
      "source": [
        "exp.gradient_descent(exp.X_train, exp.y_train, max_iter = 10000, method = 'method')"
      ],
      "execution_count": 180,
      "outputs": [
        {
          "output_type": "error",
          "ename": "ValueError",
          "evalue": "ignored",
          "traceback": [
            "\u001b[0;31m---------------------------------------------------------------------------\u001b[0m",
            "\u001b[0;31mValueError\u001b[0m                                Traceback (most recent call last)",
            "\u001b[0;32m<ipython-input-180-a48e3682b892>\u001b[0m in \u001b[0;36m<module>\u001b[0;34m()\u001b[0m\n\u001b[0;32m----> 1\u001b[0;31m \u001b[0mexp\u001b[0m\u001b[0;34m.\u001b[0m\u001b[0mgradient_descent\u001b[0m\u001b[0;34m(\u001b[0m\u001b[0mexp\u001b[0m\u001b[0;34m.\u001b[0m\u001b[0mX_train\u001b[0m\u001b[0;34m,\u001b[0m \u001b[0mexp\u001b[0m\u001b[0;34m.\u001b[0m\u001b[0my_train\u001b[0m\u001b[0;34m,\u001b[0m \u001b[0mmax_iter\u001b[0m \u001b[0;34m=\u001b[0m \u001b[0;36m10000\u001b[0m\u001b[0;34m,\u001b[0m \u001b[0mmethod\u001b[0m \u001b[0;34m=\u001b[0m \u001b[0;34m'method'\u001b[0m\u001b[0;34m)\u001b[0m\u001b[0;34m\u001b[0m\u001b[0;34m\u001b[0m\u001b[0m\n\u001b[0m",
            "\u001b[0;32m<ipython-input-175-378486002f23>\u001b[0m in \u001b[0;36mgradient_descent\u001b[0;34m(self, X, y, max_iter, method)\u001b[0m\n\u001b[1;32m     46\u001b[0m   \u001b[0;32mdef\u001b[0m \u001b[0mgradient_descent\u001b[0m\u001b[0;34m(\u001b[0m\u001b[0mself\u001b[0m\u001b[0;34m,\u001b[0m \u001b[0mX\u001b[0m\u001b[0;34m,\u001b[0m \u001b[0my\u001b[0m\u001b[0;34m,\u001b[0m \u001b[0mmax_iter\u001b[0m\u001b[0;34m,\u001b[0m \u001b[0mmethod\u001b[0m\u001b[0;34m)\u001b[0m \u001b[0;34m:\u001b[0m\u001b[0;34m\u001b[0m\u001b[0;34m\u001b[0m\u001b[0m\n\u001b[1;32m     47\u001b[0m     \u001b[0;32mif\u001b[0m \u001b[0mmethod\u001b[0m \u001b[0;32mnot\u001b[0m \u001b[0;32min\u001b[0m \u001b[0;34m[\u001b[0m\u001b[0;34m'minibatch'\u001b[0m\u001b[0;34m,\u001b[0m \u001b[0;34m'batch'\u001b[0m\u001b[0;34m,\u001b[0m \u001b[0;34m'sto'\u001b[0m\u001b[0;34m]\u001b[0m \u001b[0;34m:\u001b[0m\u001b[0;34m\u001b[0m\u001b[0;34m\u001b[0m\u001b[0m\n\u001b[0;32m---> 48\u001b[0;31m       \u001b[0;32mraise\u001b[0m \u001b[0mValueError\u001b[0m\u001b[0;34m(\u001b[0m\u001b[0;34m'method must be minibatch, batch or sto'\u001b[0m\u001b[0;34m)\u001b[0m\u001b[0;34m\u001b[0m\u001b[0;34m\u001b[0m\u001b[0m\n\u001b[0m\u001b[1;32m     49\u001b[0m     \u001b[0;32mif\u001b[0m \u001b[0mmethod\u001b[0m \u001b[0;34m==\u001b[0m \u001b[0;34m'minibatch'\u001b[0m \u001b[0;34m:\u001b[0m\u001b[0;34m\u001b[0m\u001b[0;34m\u001b[0m\u001b[0m\n\u001b[1;32m     50\u001b[0m             \u001b[0mw\u001b[0m \u001b[0;34m=\u001b[0m \u001b[0mnp\u001b[0m\u001b[0;34m.\u001b[0m\u001b[0mrandom\u001b[0m\u001b[0;34m.\u001b[0m\u001b[0mrand\u001b[0m\u001b[0;34m(\u001b[0m\u001b[0mX\u001b[0m\u001b[0;34m.\u001b[0m\u001b[0mshape\u001b[0m\u001b[0;34m[\u001b[0m\u001b[0;36m1\u001b[0m\u001b[0;34m]\u001b[0m\u001b[0;34m,\u001b[0m \u001b[0my\u001b[0m\u001b[0;34m.\u001b[0m\u001b[0mshape\u001b[0m\u001b[0;34m[\u001b[0m\u001b[0;36m1\u001b[0m\u001b[0;34m]\u001b[0m\u001b[0;34m)\u001b[0m\u001b[0;34m\u001b[0m\u001b[0;34m\u001b[0m\u001b[0m\n",
            "\u001b[0;31mValueError\u001b[0m: method must be minibatch, batch or sto"
          ]
        }
      ]
    },
    {
      "cell_type": "code",
      "metadata": {
        "colab": {
          "base_uri": "https://localhost:8080/",
          "height": 279
        },
        "id": "Li22jT1Itqdo",
        "outputId": "bd59f957-fbf4-404d-87e9-1ede43b1c581"
      },
      "source": [
        "t1_sto = time.time()\n",
        "exp.gradient_descent(exp.X_train, exp.y_train, max_iter = 20000, method = 'sto')\n",
        "t2_sto = time.time()\n",
        "time_sto = t2_sto - t1_sto \n",
        "exp.plot_cost()\n",
        "y_predicted_sto = exp.output()"
      ],
      "execution_count": 202,
      "outputs": [
        {
          "output_type": "display_data",
          "data": {
            "image/png": "[encoded data removed]",
            "text/plain": [
              "<Figure size 432x288 with 1 Axes>"
            ]
          },
          "metadata": {
            "needs_background": "light"
          }
        }
      ]
    },
    {
      "cell_type": "code",
      "metadata": {
        "colab": {
          "base_uri": "https://localhost:8080/",
          "height": 280
        },
        "id": "1u9e_uGL4wEJ",
        "outputId": "6254279e-880b-41c1-ac49-6124ea00c7ff"
      },
      "source": [
        "t1_minibatch = time.time()\n",
        "exp.gradient_descent(exp.X_train, exp.y_train, max_iter = 20000, method = 'minibatch')\n",
        "t2_minibatch = time.time()\n",
        "time_minibatch = t2_minibatch- t1_minibatch\n",
        "exp.plot_cost()\n",
        "y_predicted_minibatch = exp.output()"
      ],
      "execution_count": 196,
      "outputs": [
        {
          "output_type": "display_data",
          "data": {
            "image/png": "[encoded data removed]",
            "text/plain": [
              "<Figure size 432x288 with 1 Axes>"
            ]
          },
          "metadata": {
            "needs_background": "light"
          }
        }
      ]
    },
    {
      "cell_type": "code",
      "metadata": {
        "colab": {
          "base_uri": "https://localhost:8080/",
          "height": 279
        },
        "id": "g-DfPAVp47-C",
        "outputId": "c712298d-1c65-4c6f-c8cf-70578ce42c1c"
      },
      "source": [
        "t1_batch = time.time()\n",
        "exp.gradient_descent(exp.X_train, exp.y_train, max_iter = 20000, method = 'batch')\n",
        "t2_batch = time.time()\n",
        "time_batch = t2_batch- t1_batch\n",
        "exp.plot_cost()\n",
        "y_predicted_batch = exp.output()"
      ],
      "execution_count": 195,
      "outputs": [
        {
          "output_type": "display_data",
          "data": {
            "image/png": "[encoded data removed]",
            "text/plain": [
              "<Figure size 432x288 with 1 Axes>"
            ]
          },
          "metadata": {
            "needs_background": "light"
          }
        }
      ]
    },
    {
      "cell_type": "code",
      "metadata": {
        "colab": {
          "base_uri": "https://localhost:8080/"
        },
        "id": "g07WyWwz-J_k",
        "outputId": "0e1547ba-460d-42f5-c01b-7e4880506016"
      },
      "source": [
        "print('stochastic method time : ', time_sto, ' seconds')\n",
        "print('minibatch method time : ', time_minibatch, ' seconds')\n",
        "print('batch method time : ', time_batch, '  seconds')"
      ],
      "execution_count": 211,
      "outputs": [
        {
          "output_type": "stream",
          "text": [
            "stochastic method time :  0.6262118816375732  seconds\n",
            "minibatch method time :  0.7548904418945312  seconds\n",
            "batch method time :  1.0344877243041992   seconds\n"
          ],
          "name": "stdout"
        }
      ]
    },
    {
      "cell_type": "code",
      "metadata": {
        "id": "OskVFfMm6KlY"
      },
      "source": [
        "from sklearn.metrics import classification_report"
      ],
      "execution_count": 190,
      "outputs": []
    },
    {
      "cell_type": "code",
      "metadata": {
        "colab": {
          "base_uri": "https://localhost:8080/"
        },
        "id": "93-cZh4m6pgb",
        "outputId": "1a6a206f-fc6b-48d7-f3b0-c2386196cb5d"
      },
      "source": [
        "print(classification_report(exp.y_test, y_predicted_sto))"
      ],
      "execution_count": 198,
      "outputs": [
        {
          "output_type": "stream",
          "text": [
            "              precision    recall  f1-score   support\n",
            "\n",
            "         0.0       0.34      1.00      0.51        14\n",
            "         1.0       0.75      0.18      0.29        17\n",
            "         2.0       0.00      0.00      0.00        14\n",
            "\n",
            "    accuracy                           0.38        45\n",
            "   macro avg       0.36      0.39      0.26        45\n",
            "weighted avg       0.39      0.38      0.27        45\n",
            "\n"
          ],
          "name": "stdout"
        },
        {
          "output_type": "stream",
          "text": [
            "/usr/local/lib/python3.7/dist-packages/sklearn/metrics/_classification.py:1272: UndefinedMetricWarning: Precision and F-score are ill-defined and being set to 0.0 in labels with no predicted samples. Use `zero_division` parameter to control this behavior.\n",
            "  _warn_prf(average, modifier, msg_start, len(result))\n"
          ],
          "name": "stderr"
        }
      ]
    },
    {
      "cell_type": "code",
      "metadata": {
        "colab": {
          "base_uri": "https://localhost:8080/"
        },
        "id": "1FF_Ncbk6zfi",
        "outputId": "c2a6e922-66c5-423a-f3d7-84043a225c64"
      },
      "source": [
        "print(classification_report(exp.y_test, y_predicted_minibatch))"
      ],
      "execution_count": 199,
      "outputs": [
        {
          "output_type": "stream",
          "text": [
            "              precision    recall  f1-score   support\n",
            "\n",
            "         0.0       1.00      0.93      0.96        14\n",
            "         1.0       0.72      0.76      0.74        17\n",
            "         2.0       0.71      0.71      0.71        14\n",
            "\n",
            "    accuracy                           0.80        45\n",
            "   macro avg       0.81      0.80      0.81        45\n",
            "weighted avg       0.81      0.80      0.80        45\n",
            "\n"
          ],
          "name": "stdout"
        }
      ]
    },
    {
      "cell_type": "code",
      "metadata": {
        "colab": {
          "base_uri": "https://localhost:8080/"
        },
        "id": "uBmVRTfq637Q",
        "outputId": "5af39794-46a0-430f-ce6d-3e1605177948"
      },
      "source": [
        "print(classification_report(exp.y_test, y_predicted_batch))"
      ],
      "execution_count": 200,
      "outputs": [
        {
          "output_type": "stream",
          "text": [
            "              precision    recall  f1-score   support\n",
            "\n",
            "         0.0       1.00      0.93      0.96        14\n",
            "         1.0       0.72      0.76      0.74        17\n",
            "         2.0       0.71      0.71      0.71        14\n",
            "\n",
            "    accuracy                           0.80        45\n",
            "   macro avg       0.81      0.80      0.81        45\n",
            "weighted avg       0.81      0.80      0.80        45\n",
            "\n"
          ],
          "name": "stdout"
        }
      ]
    },
    {
      "cell_type": "markdown",
      "metadata": {
        "id": "dbuLd54q76nN"
      },
      "source": [
        "As the reports show us, the mini_batch and the batch gradient descent methods are the most accurate. Indeed, for 20000 iterations of gradient descent algorithm, the minibatch and the batch method give similar results (if we make lower iterations, as we can predict, the batch method is more accurate than the minibatch method). Even if the stochastic method gives, for this dataset, results far from the reality, it is this method that is the fastest (followed by the minibatch and the batch method). Because our lab's dataset size isn't immense, the batch method seems to be the best for prediction. However, if the dataset grows, the batch method will probably take too much time to converge to a result. So, the minibatch which gives compelling results could be a good compromise. For me, it is the minibatch method that provides the most astonishing results. Effectively, for a time execution close to the stochastic, the minibatch method gives the same results that the batch method (usually the most accurate)! To conclude, in this lab, we see the limits of the stochastic method (maybe it is me who didn't implement it well ... ) and the achievement of the minibatch methods.  "
      ]
    }
  ]
}