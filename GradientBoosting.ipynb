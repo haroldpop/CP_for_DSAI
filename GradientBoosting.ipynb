{
  "nbformat": 4,
  "nbformat_minor": 0,
  "metadata": {
    "colab": {
      "name": "GradientBoosting.ipynb",
      "provenance": [],
      "collapsed_sections": []
    },
    "kernelspec": {
      "name": "python3",
      "display_name": "Python 3"
    },
    "language_info": {
      "name": "python"
    }
  },
  "cells": [
    {
      "cell_type": "code",
      "metadata": {
        "id": "dZxcJypI0CZ7"
      },
      "source": [
        "import numpy as np\n",
        "from scipy.special import expit\n",
        "from sklearn.tree import DecisionTreeRegressor\n",
        "from sklearn.dummy import DummyRegressor\n",
        "from sklearn.tree import DecisionTreeClassifier\n",
        "from sklearn.dummy import DummyClassifier"
      ],
      "execution_count": 155,
      "outputs": []
    },
    {
      "cell_type": "code",
      "metadata": {
        "id": "xvUzWmehoXQ1"
      },
      "source": [
        "def multinomial_encoder(y):\n",
        "    y = y.reshape(-1, 1)\n",
        "    m, n = y.shape\n",
        "    nb_class = np.unique(y).shape[0]\n",
        "    #we got number from 0 to 9\n",
        "    y_encod = np.zeros((m, nb_class))\n",
        "    for k in range(m):\n",
        "        class_ = y[k]\n",
        "        y_encod[k, class_] += 1\n",
        "    return y_encod"
      ],
      "execution_count": 156,
      "outputs": []
    },
    {
      "cell_type": "code",
      "metadata": {
        "id": "vrfygQZylPmP"
      },
      "source": [
        "class GradientBoosting:\n",
        "\n",
        "    def __init__(self, method, n_estimators, tree_params, learning_rate):\n",
        "        if method not in ['regression', 'binary', 'multinomial'] :\n",
        "            raise ValueError('Please select a method between regression, binary and multinomial')\n",
        "        self.method = method\n",
        "        self.learning_rate = learning_rate\n",
        "        if self.method == 'regression':\n",
        "            self.models = [DecisionTreeRegressor(**tree_params) for _ in range(n_estimators)]\n",
        "        else :\n",
        "            self.models = [DecisionTreeClassifier(**tree_params) for _ in range(n_estimators)]\n",
        "\n",
        "    def grad(self, y, h):\n",
        "        return y - h\n",
        "\n",
        "    def softmax(self, z):\n",
        "        return np.exp(z) / np.sum(np.exp(z), axis = 1, keepdims=True)\n",
        "\n",
        "\n",
        "    def predict(self, X, models):\n",
        "        learning_rate = self.learning_rate  ##hard code for now\n",
        "        if self.method == 'regression' :\n",
        "            f0 = models[0].predict(X)  #first use the dummy model\n",
        "            boosting = sum(learning_rate * model.predict(X) for model in models[1:])\n",
        "            return f0 + boosting\n",
        "        elif self.method == 'binary':\n",
        "            f0 = models[0].predict(X)  #first use the dummy model\n",
        "            boosting = sum(learning_rate * model.predict(X) for model in models[1:])\n",
        "            yhat = f0 + boosting\n",
        "            yhat =  np.round(expit(yhat))\n",
        "            return yhat\n",
        "        else :\n",
        "            f0 = models[0].predict(X)  #first use the dummy model\n",
        "            boosting = sum(learning_rate * model.predict(X) for model in models[1:])\n",
        "            yhat = f0 + boosting\n",
        "            yhat = self.softmax(yhat)\n",
        "            yhat = np.argmax(yhat, axis = 1)\n",
        "            yhat = multinomial_encoder(yhat)\n",
        "            return yhat\n",
        "\n",
        "    def fit_data(self, X, y):\n",
        "        models_trained = []\n",
        "        #using DummyRegressor is a good technique for starting model\n",
        "        if self.method == 'regression':\n",
        "            first_model = DummyRegressor(strategy = 'mean')\n",
        "        else :  \n",
        "            first_model = DummyClassifier(strategy='stratified')\n",
        "        first_model.fit(X, y)\n",
        "        models_trained.append(first_model)\n",
        "        #fit the estimators\n",
        "        for i, model in enumerate(self.models):\n",
        "            #predict using all the weak learners we trained up to\n",
        "            #this point\n",
        "            y_pred = self.predict(X, models_trained)\n",
        "            #errors will be the total errors maded by models_trained\n",
        "            residual = self.grad(y, y_pred)\n",
        "            #fit the next model with residual\n",
        "            model.fit(X, residual)\n",
        "            models_trained.append(model)\n",
        "        return models_trained"
      ],
      "execution_count": 157,
      "outputs": []
    },
    {
      "cell_type": "code",
      "metadata": {
        "id": "KWRa4ByBpm6h"
      },
      "source": [
        "from sklearn.datasets import load_boston\n",
        "from sklearn.metrics import mean_squared_error\n",
        "from sklearn.model_selection import train_test_split\n",
        "from sklearn.ensemble import GradientBoostingRegressor"
      ],
      "execution_count": 158,
      "outputs": []
    },
    {
      "cell_type": "code",
      "metadata": {
        "colab": {
          "base_uri": "https://localhost:8080/"
        },
        "id": "i49SOrYvoqUz",
        "outputId": "644e24b0-9348-496e-dfa4-9e47660cd830"
      },
      "source": [
        "X, y = load_boston(return_X_y=True)\n",
        "\n",
        "X_train, X_test, y_train, y_test = train_test_split(X, y, \n",
        "                                                    test_size=0.3, random_state=42)\n",
        "\n",
        "n_estimators = 200\n",
        "tree_params = {'max_depth': 4, 'min_samples_split': 2}\n",
        "exp = GradientBoosting('regression', n_estimators, tree_params, learning_rate=0.1)\n",
        "\n",
        "\n",
        "#fit the models\n",
        "models = exp.fit_data(X_train, y_train)\n",
        "\n",
        "#predict\n",
        "y_pred = exp.predict(X_test, models)\n",
        "\n",
        "#print metrics\n",
        "print(\"Our MSE: \", mean_squared_error(y_test, y_pred))"
      ],
      "execution_count": 159,
      "outputs": [
        {
          "output_type": "stream",
          "name": "stdout",
          "text": [
            "Our MSE:  8.381549935416325\n"
          ]
        }
      ]
    },
    {
      "cell_type": "markdown",
      "metadata": {
        "id": "t34pWBl57Med"
      },
      "source": [
        "If we tweak a little bit with *max_depth* and *min_samples_split* parameters, we can achieve better performance. The maximum depth of the tree is the most influent parameter. "
      ]
    },
    {
      "cell_type": "code",
      "metadata": {
        "id": "pm0A3Je0q8OY"
      },
      "source": [
        "from sklearn.datasets import load_breast_cancer\n",
        "from sklearn.metrics import classification_report"
      ],
      "execution_count": 160,
      "outputs": []
    },
    {
      "cell_type": "code",
      "metadata": {
        "colab": {
          "base_uri": "https://localhost:8080/"
        },
        "id": "ih4OYczJpu7B",
        "outputId": "a6fe5d51-321b-43e1-d3a4-546a8988bc58"
      },
      "source": [
        "X, y = load_breast_cancer(return_X_y=True)\n",
        "\n",
        "X_train, X_test, y_train, y_test = train_test_split(X, y, \n",
        "                                                    test_size=0.3, random_state=42)\n",
        "\n",
        "n_estimators = 200\n",
        "tree_params = {'max_depth': 3, 'min_samples_split': 2}\n",
        "learning_rate = 0.1\n",
        "exp = GradientBoosting('binary', n_estimators, tree_params, learning_rate)\n",
        "\n",
        "#fit the models\n",
        "models = exp.fit_data(X_train, y_train)\n",
        "\n",
        "#predict\n",
        "y_pred = exp.predict(X_test, models)\n",
        "#print metrics\n",
        "print(classification_report(y_test, y_pred))"
      ],
      "execution_count": 161,
      "outputs": [
        {
          "output_type": "stream",
          "name": "stdout",
          "text": [
            "              precision    recall  f1-score   support\n",
            "\n",
            "           0       0.69      0.75      0.72        63\n",
            "           1       0.84      0.81      0.82       108\n",
            "\n",
            "    accuracy                           0.78       171\n",
            "   macro avg       0.77      0.78      0.77       171\n",
            "weighted avg       0.79      0.78      0.79       171\n",
            "\n"
          ]
        }
      ]
    },
    {
      "cell_type": "code",
      "metadata": {
        "id": "2R45jiAFq_s6"
      },
      "source": [
        "from sklearn.datasets import load_digits\n",
        "from sklearn.metrics import confusion_matrix\n",
        "import seaborn as sns"
      ],
      "execution_count": 162,
      "outputs": []
    },
    {
      "cell_type": "code",
      "metadata": {
        "colab": {
          "base_uri": "https://localhost:8080/",
          "height": 302
        },
        "id": "rfWdf-W4q-oH",
        "outputId": "bf3f5c39-6282-4bc2-8987-458a23ce9f40"
      },
      "source": [
        "X, y = load_digits(return_X_y=True)\n",
        "X_train, X_test, y_train, y_test = train_test_split(X, y, \n",
        "                                                    test_size=0.3, random_state=42)\n",
        "\n",
        "\n",
        "n_estimators = 200\n",
        "y_train = multinomial_encoder(y_train)\n",
        "tree_params = {'max_depth': 8, 'min_samples_split': 4}\n",
        "learning_rate = 0.1\n",
        "exp = GradientBoosting('multinomial', n_estimators, tree_params, learning_rate)\n",
        "\n",
        "#fit the models\n",
        "models = exp.fit_data(X_train, y_train)\n",
        "\n",
        "#predict\n",
        "y_pred = exp.predict(X_test, models)\n",
        "y_pred = np.argmax(y_pred, axis = 1)\n",
        "#print metrics\n",
        "print('Accuracy: ', y_test[y_pred == y_test].shape[0] / y_test.shape[0])\n",
        "sns.heatmap(confusion_matrix(y_test, y_pred), annot = True)"
      ],
      "execution_count": 163,
      "outputs": [
        {
          "output_type": "stream",
          "name": "stdout",
          "text": [
            "Accuracy:  0.7018518518518518\n"
          ]
        },
        {
          "output_type": "execute_result",
          "data": {
            "text/plain": [
              "<matplotlib.axes._subplots.AxesSubplot at 0x7f7700fcd190>"
            ]
          },
          "metadata": {},
          "execution_count": 163
        },
        {
          "output_type": "display_data",
          "data": {
            "image/png": "[encoded data removed]",
            "text/plain": [
              "<Figure size 432x288 with 2 Axes>"
            ]
          },
          "metadata": {
            "needs_background": "light"
          }
        }
      ]
    },
    {
      "cell_type": "markdown",
      "metadata": {
        "id": "QBuFqgH7rl5z"
      },
      "source": [
        "The multinomial method is the one which give the worst accuracy with the longest computation time."
      ]
    },
    {
      "cell_type": "code",
      "metadata": {
        "colab": {
          "base_uri": "https://localhost:8080/",
          "height": 299
        },
        "id": "2CEUCX05raWa",
        "outputId": "046726be-017c-4145-beda-e33840661c9d"
      },
      "source": [
        "exp = GradientBoosting('gaussian', n_estimators, tree_params, learning_rate)"
      ],
      "execution_count": 164,
      "outputs": [
        {
          "output_type": "error",
          "ename": "ValueError",
          "evalue": "ignored",
          "traceback": [
            "\u001b[0;31m---------------------------------------------------------------------------\u001b[0m",
            "\u001b[0;31mValueError\u001b[0m                                Traceback (most recent call last)",
            "\u001b[0;32m<ipython-input-164-d1a98ba371ad>\u001b[0m in \u001b[0;36m<module>\u001b[0;34m()\u001b[0m\n\u001b[0;32m----> 1\u001b[0;31m \u001b[0mexp\u001b[0m \u001b[0;34m=\u001b[0m \u001b[0mGradientBoosting\u001b[0m\u001b[0;34m(\u001b[0m\u001b[0;34m'gaussian'\u001b[0m\u001b[0;34m,\u001b[0m \u001b[0mn_estimators\u001b[0m\u001b[0;34m,\u001b[0m \u001b[0mtree_params\u001b[0m\u001b[0;34m,\u001b[0m \u001b[0mlearning_rate\u001b[0m\u001b[0;34m)\u001b[0m\u001b[0;34m\u001b[0m\u001b[0;34m\u001b[0m\u001b[0m\n\u001b[0m",
            "\u001b[0;32m<ipython-input-157-462016a072a9>\u001b[0m in \u001b[0;36m__init__\u001b[0;34m(self, method, n_estimators, tree_params, learning_rate)\u001b[0m\n\u001b[1;32m      3\u001b[0m     \u001b[0;32mdef\u001b[0m \u001b[0m__init__\u001b[0m\u001b[0;34m(\u001b[0m\u001b[0mself\u001b[0m\u001b[0;34m,\u001b[0m \u001b[0mmethod\u001b[0m\u001b[0;34m,\u001b[0m \u001b[0mn_estimators\u001b[0m\u001b[0;34m,\u001b[0m \u001b[0mtree_params\u001b[0m\u001b[0;34m,\u001b[0m \u001b[0mlearning_rate\u001b[0m\u001b[0;34m)\u001b[0m\u001b[0;34m:\u001b[0m\u001b[0;34m\u001b[0m\u001b[0;34m\u001b[0m\u001b[0m\n\u001b[1;32m      4\u001b[0m         \u001b[0;32mif\u001b[0m \u001b[0mmethod\u001b[0m \u001b[0;32mnot\u001b[0m \u001b[0;32min\u001b[0m \u001b[0;34m[\u001b[0m\u001b[0;34m'regression'\u001b[0m\u001b[0;34m,\u001b[0m \u001b[0;34m'binary'\u001b[0m\u001b[0;34m,\u001b[0m \u001b[0;34m'multinomial'\u001b[0m\u001b[0;34m]\u001b[0m \u001b[0;34m:\u001b[0m\u001b[0;34m\u001b[0m\u001b[0;34m\u001b[0m\u001b[0m\n\u001b[0;32m----> 5\u001b[0;31m             \u001b[0;32mraise\u001b[0m \u001b[0mValueError\u001b[0m\u001b[0;34m(\u001b[0m\u001b[0;34m'Please select a method between regression, binary and multinomial'\u001b[0m\u001b[0;34m)\u001b[0m\u001b[0;34m\u001b[0m\u001b[0;34m\u001b[0m\u001b[0m\n\u001b[0m\u001b[1;32m      6\u001b[0m         \u001b[0mself\u001b[0m\u001b[0;34m.\u001b[0m\u001b[0mmethod\u001b[0m \u001b[0;34m=\u001b[0m \u001b[0mmethod\u001b[0m\u001b[0;34m\u001b[0m\u001b[0;34m\u001b[0m\u001b[0m\n\u001b[1;32m      7\u001b[0m         \u001b[0mself\u001b[0m\u001b[0;34m.\u001b[0m\u001b[0mlearning_rate\u001b[0m \u001b[0;34m=\u001b[0m \u001b[0mlearning_rate\u001b[0m\u001b[0;34m\u001b[0m\u001b[0;34m\u001b[0m\u001b[0m\n",
            "\u001b[0;31mValueError\u001b[0m: Please select a method between regression, binary and multinomial"
          ]
        }
      ]
    }
  ]
}